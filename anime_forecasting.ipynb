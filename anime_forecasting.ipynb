{
  "nbformat": 4,
  "nbformat_minor": 0,
  "metadata": {
    "colab": {
      "provenance": [],
      "include_colab_link": true
    },
    "kernelspec": {
      "name": "python3",
      "display_name": "Python 3"
    },
    "language_info": {
      "name": "python"
    }
  },
  "cells": [
    {
      "cell_type": "markdown",
      "metadata": {
        "id": "view-in-github",
        "colab_type": "text"
      },
      "source": [
        "<a href=\"https://colab.research.google.com/github/St4rLighr/anime_forecasting/blob/colab_codes/anime_forecasting.ipynb\" target=\"_parent\"><img src=\"https://colab.research.google.com/assets/colab-badge.svg\" alt=\"Open In Colab\"/></a>"
      ]
    },
    {
      "cell_type": "code",
      "execution_count": null,
      "metadata": {
        "id": "FNBbATWcVbmL",
        "colab": {
          "base_uri": "https://localhost:8080/",
          "height": 201
        },
        "outputId": "c02d0522-fe52-4d11-8b77-5a6654ffbdb2"
      },
      "outputs": [
        {
          "output_type": "error",
          "ename": "NameError",
          "evalue": "name 'requests' is not defined",
          "traceback": [
            "\u001b[0;31m---------------------------------------------------------------------------\u001b[0m",
            "\u001b[0;31mNameError\u001b[0m                                 Traceback (most recent call last)",
            "\u001b[0;32m<ipython-input-1-7be7f1a32dc6>\u001b[0m in \u001b[0;36m<cell line: 26>\u001b[0;34m()\u001b[0m\n\u001b[1;32m     24\u001b[0m \u001b[0;34m\u001b[0m\u001b[0m\n\u001b[1;32m     25\u001b[0m \u001b[0;31m# Make the HTTP Api request\u001b[0m\u001b[0;34m\u001b[0m\u001b[0;34m\u001b[0m\u001b[0m\n\u001b[0;32m---> 26\u001b[0;31m \u001b[0mresponse\u001b[0m \u001b[0;34m=\u001b[0m \u001b[0mrequests\u001b[0m\u001b[0;34m.\u001b[0m\u001b[0mpost\u001b[0m\u001b[0;34m(\u001b[0m\u001b[0murl\u001b[0m\u001b[0;34m,\u001b[0m \u001b[0mjson\u001b[0m\u001b[0;34m=\u001b[0m\u001b[0;34m{\u001b[0m\u001b[0;34m'query'\u001b[0m\u001b[0;34m:\u001b[0m \u001b[0mquery\u001b[0m\u001b[0;34m,\u001b[0m \u001b[0;34m'variables'\u001b[0m\u001b[0;34m:\u001b[0m \u001b[0mvariables\u001b[0m\u001b[0;34m}\u001b[0m\u001b[0;34m)\u001b[0m\u001b[0;34m\u001b[0m\u001b[0;34m\u001b[0m\u001b[0m\n\u001b[0m\u001b[1;32m     27\u001b[0m \u001b[0mdata\u001b[0m \u001b[0;34m=\u001b[0m \u001b[0mresponse\u001b[0m\u001b[0;34m.\u001b[0m\u001b[0mjson\u001b[0m\u001b[0;34m(\u001b[0m\u001b[0;34m)\u001b[0m\u001b[0;34m\u001b[0m\u001b[0;34m\u001b[0m\u001b[0m\n",
            "\u001b[0;31mNameError\u001b[0m: name 'requests' is not defined"
          ]
        }
      ],
      "source": [
        "# Here we define our query as a multi-line string\n",
        "query = '''\n",
        "query ($id: Int) { # Define which variables will be used in the query (id)\n",
        "  Media (id: $id, type: ANIME) { # Insert our variables into the query arguments (id) (type: ANIME is hard-coded in the query)\n",
        "    id\n",
        "    title {\n",
        "      romaji\n",
        "      english\n",
        "      native\n",
        "    }\n",
        "    tags{\n",
        "      name\n",
        "    }\n",
        "  }\n",
        "}\n",
        "'''\n",
        "\n",
        "# Define our query variables and values that will be used in the query request\n",
        "variables = {\n",
        "    'id': 15125\n",
        "}\n",
        "\n",
        "url = 'https://graphql.anilist.co'\n",
        "\n",
        "# Make the HTTP Api request\n",
        "response = requests.post(url, json={'query': query, 'variables': variables})\n",
        "data = response.json()"
      ]
    },
    {
      "cell_type": "code",
      "source": [
        "import requests\n",
        "from pprint import pprint\n",
        "from time import sleep"
      ],
      "metadata": {
        "id": "HBQ7g57gYbio"
      },
      "execution_count": null,
      "outputs": []
    },
    {
      "cell_type": "code",
      "source": [
        "#building for loop for api calls\n",
        "#rate limit: 30 requests per minute\n",
        "\n",
        "# start_id = 1  # Starting anime ID\n",
        "# end_id = 100  # Ending anime ID\n",
        "# count_page = 0\n",
        "# id = start_id\n",
        "\n",
        "query = '''\n",
        "query ($id: Int) { # Define which variables will be used in the query (id)\n",
        "  Media (id: $id, type: ANIME) { # Insert our variables into the query arguments (id) (type: ANIME is hard-coded in the query)\n",
        "    id\n",
        "    idMal\n",
        "    title {\n",
        "      romaji\n",
        "      english\n",
        "    }\n",
        "    format\n",
        "    episodes\n",
        "    duration\n",
        "    status\n",
        "    startDate {\n",
        "      day\n",
        "      month\n",
        "      year\n",
        "    }\n",
        "    meanScore\n",
        "    averageScore\n",
        "    popularity\n",
        "    favourites\n",
        "    genres\n",
        "    externalLinks {\n",
        "      site\n",
        "      isDisabled\n",
        "      type\n",
        "    }\n",
        "    stats {\n",
        "      scoreDistribution {\n",
        "        amount\n",
        "        score\n",
        "      }\n",
        "      statusDistribution {\n",
        "        amount\n",
        "        status\n",
        "      }\n",
        "    }\n",
        "    rankings {\n",
        "      allTime\n",
        "      rank\n",
        "      id\n",
        "      context\n",
        "      format\n",
        "      type\n",
        "      year\n",
        "    }\n",
        "    tags{\n",
        "      name\n",
        "    }\n",
        "  }\n",
        "}\n",
        "'''"
      ],
      "metadata": {
        "id": "Tg0s9YohSBjo"
      },
      "execution_count": null,
      "outputs": []
    },
    {
      "cell_type": "code",
      "source": [
        "animes = []\n",
        "for start_id in range(1,60001):#60001\n",
        "    # Define our query variables and values that will be used in the query request\n",
        "    if start_id % 30 == 0:\n",
        "        sleep(60)\n",
        "    variables = {\n",
        "    'id': start_id                                                    #'id': 1\n",
        "    }\n",
        "    url = 'https://graphql.anilist.co'\n",
        "    response = requests.post(url, json={'query': query, 'variables': variables})\n",
        "    data = response.json()\n",
        "    animes.append(data)\n",
        "    print(start_id)"
      ],
      "metadata": {
        "id": "0OrUFfazYJLh",
        "collapsed": true
      },
      "execution_count": null,
      "outputs": []
    },
    {
      "cell_type": "code",
      "source": [
        "len(animes)"
      ],
      "metadata": {
        "colab": {
          "base_uri": "https://localhost:8080/",
          "height": 141
        },
        "id": "mLCywl6-_eFh",
        "outputId": "8bd3990e-c3ed-4310-dd06-0fed8acba4ad"
      },
      "execution_count": null,
      "outputs": [
        {
          "output_type": "error",
          "ename": "NameError",
          "evalue": "name 'animes' is not defined",
          "traceback": [
            "\u001b[0;31m---------------------------------------------------------------------------\u001b[0m",
            "\u001b[0;31mNameError\u001b[0m                                 Traceback (most recent call last)",
            "\u001b[0;32m<ipython-input-1-fce0b3af449d>\u001b[0m in \u001b[0;36m<cell line: 1>\u001b[0;34m()\u001b[0m\n\u001b[0;32m----> 1\u001b[0;31m \u001b[0mlen\u001b[0m\u001b[0;34m(\u001b[0m\u001b[0manimes\u001b[0m\u001b[0;34m)\u001b[0m\u001b[0;34m\u001b[0m\u001b[0;34m\u001b[0m\u001b[0m\n\u001b[0m",
            "\u001b[0;31mNameError\u001b[0m: name 'animes' is not defined"
          ]
        }
      ]
    },
    {
      "cell_type": "code",
      "source": [
        "animes[0]['data']['Media']['tags']"
      ],
      "metadata": {
        "colab": {
          "base_uri": "https://localhost:8080/"
        },
        "collapsed": true,
        "id": "JwQM7gCa4jea",
        "outputId": "2daabd6f-494a-4a92-d3af-89317860371d"
      },
      "execution_count": null,
      "outputs": [
        {
          "output_type": "execute_result",
          "data": {
            "text/plain": [
              "[{'name': 'Space'},\n",
              " {'name': 'Crime'},\n",
              " {'name': 'Episodic'},\n",
              " {'name': 'Ensemble Cast'},\n",
              " {'name': 'Primarily Adult Cast'},\n",
              " {'name': 'Tragedy'},\n",
              " {'name': 'Travel'},\n",
              " {'name': 'Noir'},\n",
              " {'name': 'Guns'},\n",
              " {'name': 'Male Protagonist'},\n",
              " {'name': 'Cyberpunk'},\n",
              " {'name': 'Found Family'},\n",
              " {'name': 'Philosophy'},\n",
              " {'name': 'Terrorism'},\n",
              " {'name': 'Tomboy'},\n",
              " {'name': 'Martial Arts'},\n",
              " {'name': 'Cowboys'},\n",
              " {'name': 'Cyborg'},\n",
              " {'name': 'Amnesia'},\n",
              " {'name': 'Anti-Hero'},\n",
              " {'name': 'Gambling'},\n",
              " {'name': 'Heterosexual'},\n",
              " {'name': 'Yakuza'},\n",
              " {'name': 'Drugs'},\n",
              " {'name': 'Police'},\n",
              " {'name': 'Female Protagonist'},\n",
              " {'name': 'Cult'},\n",
              " {'name': 'Nudity'},\n",
              " {'name': 'Tanned Skin'},\n",
              " {'name': 'Circus'}]"
            ]
          },
          "metadata": {},
          "execution_count": 50
        }
      ]
    },
    {
      "cell_type": "code",
      "source": [
        "anime_dict = {}\n",
        "anime_dict['id'] = []\n",
        "anime_dict['idMal'] = []\n",
        "anime_dict['title'] = []\n",
        "anime_dict['format'] = []\n",
        "anime_dict['episodes'] = []\n",
        "anime_dict['duration'] = []\n",
        "anime_dict['status'] = []\n",
        "anime_dict['startDay'] = []\n",
        "anime_dict['startMonth'] = []\n",
        "anime_dict['startYear'] = []\n",
        "anime_dict['meanScore'] = []\n",
        "anime_dict['averageScore'] = []\n",
        "anime_dict['popularity'] = []\n",
        "anime_dict['favourites'] = []\n",
        "anime_dict['genres'] = []\n",
        "anime_dict['site'] = []\n",
        "anime_dict['type'] = []\n",
        "anime_dict['scoreDistribution_amount'] = []\n",
        "anime_dict['scoreDistribution_score'] = []\n",
        "anime_dict['statusDistribution_score'] = []\n",
        "anime_dict['statusDistribution_status'] = []\n",
        "anime_dict['rankings_allTime'] = []\n",
        "anime_dict['rankings_rank'] = []\n",
        "anime_dict['rankings_id'] = []\n",
        "anime_dict['rankings_context'] = []\n",
        "anime_dict['rankings_format'] = []\n",
        "anime_dict['rankings_type'] = []\n",
        "anime_dict['rankings_year'] = []\n",
        "anime_dict['tags'] = []\n",
        "\n",
        "for num in range(1,60001):\n",
        "    if animes[num]['data'][\"Media\"] != None:\n",
        "        anime_dict['id'].append(animes[num]['data']['Media']['id'])\n",
        "        anime_dict['idMal'].append(animes[num]['data']['Media']['idMal'])\n",
        "        anime_dict['title'].append(animes[num]['data']['Media']['title']['english'])\n",
        "        anime_dict['format'].append(animes[num]['data']['Media']['format'])\n",
        "        anime_dict['episodes'].append(animes[num]['data']['Media']['episodes'])\n",
        "        anime_dict['duration'].append(animes[num]['data']['Media']['duration'])\n",
        "        anime_dict['status'].append(animes[num]['data']['Media']['status'])\n",
        "        anime_dict['startDay'].append(animes[num]['data']['Media']['startDate']['day'])#\n",
        "        anime_dict['startMonth'].append(animes[num]['data']['Media']['startDate']['month'])#\n",
        "        anime_dict['startYear'].append(animes[num]['data']['Media']['startDate']['year']) #\n",
        "        anime_dict['meanScore'].append(animes[num]['data']['Media']['meanScore'])\n",
        "        anime_dict['averageScore'].append(animes[num]['data']['Media']['averageScore'])\n",
        "        anime_dict['popularity'].append(animes[num]['data']['Media']['popularity'])\n",
        "        anime_dict['favourites'].append(animes[num]['data']['Media']['favourites'])\n",
        "        anime_dict['genres'].append(animes[num]['data']['Media']['genres'])\n",
        "        anime_dict['site'].append(animes[num]['data']['Media']['externalLinks'][0]['site'])#\n",
        "        anime_dict['type'].append(animes[num]['data']['Media']['externalLinks'][0]['type'])#\n",
        "        anime_dict['scoreDistribution_amount'].append(animes[num]['data']['Media']['stats']['scoreDistribution'][0]['amount'])#\n",
        "        anime_dict['scoreDistribution_score'].append(animes[num]['data']['Media']['stats']['scoreDistribution'][0]['score'])#\n",
        "        anime_dict['statusDistribution_score'].append(animes[num]['data']['Media']['stats']['statusDistribution'][0]['amount'])#\n",
        "        anime_dict['statusDistribution_status'].append(animes[num]['data']['Media']['stats']['statusDistribution'][0]['status'])#\n",
        "        anime_dict['rankings_allTime'].append(animes[num]['data']['Media']['rankings'][0]['allTime'])#\n",
        "        anime_dict['rankings_rank'].append(animes[num]['data']['Media']['rankings'][0]['rank'])#\n",
        "        anime_dict['rankings_id'].append(animes[num]['data']['Media']['rankings'][0]['id'])#\n",
        "        anime_dict['rankings_context'].append(animes[num]['data']['Media']['rankings'][0]['context'])#\n",
        "        anime_dict['rankings_format'].append(animes[num]['data']['Media']['rankings'][0]['format'])#\n",
        "        anime_dict['rankings_type'].append(animes[num]['data']['Media']['rankings'][0]['type']) #\n",
        "        anime_dict['rankings_year'].append(animes[num]['data']['Media']['rankings'][0]['year'])#\n",
        "        anime_dict['tags'].append([d.get('name') for d in animes[num]['data']['Media']['tags']])"
      ],
      "metadata": {
        "collapsed": true,
        "id": "9vJucr1wnqUE"
      },
      "execution_count": null,
      "outputs": []
    },
    {
      "cell_type": "code",
      "source": [
        "animes[0]['data']['Media']['title']['english']"
      ],
      "metadata": {
        "colab": {
          "base_uri": "https://localhost:8080/",
          "height": 35
        },
        "id": "X1W7s0XSsF3q",
        "outputId": "3d671ca3-0ecb-43c5-a0ec-a5dc4e703018",
        "collapsed": true
      },
      "execution_count": null,
      "outputs": [
        {
          "output_type": "execute_result",
          "data": {
            "text/plain": [
              "'Cowboy Bebop'"
            ],
            "application/vnd.google.colaboratory.intrinsic+json": {
              "type": "string"
            }
          },
          "metadata": {},
          "execution_count": 30
        }
      ]
    },
    {
      "cell_type": "code",
      "source": [
        "import pandas as pd"
      ],
      "metadata": {
        "id": "rdEbgAoMp1Vb"
      },
      "execution_count": null,
      "outputs": []
    },
    {
      "cell_type": "code",
      "source": [
        "anime_df = pd.DataFrame(anime_dict)"
      ],
      "metadata": {
        "id": "8y3_fYUhp5OV"
      },
      "execution_count": null,
      "outputs": []
    },
    {
      "cell_type": "code",
      "source": [
        "anime_df['tags']"
      ],
      "metadata": {
        "colab": {
          "base_uri": "https://localhost:8080/",
          "height": 210
        },
        "id": "dVbdceP81eXp",
        "outputId": "188dc46c-724a-47f5-bb62-38b89038b5f5"
      },
      "execution_count": null,
      "outputs": [
        {
          "output_type": "execute_result",
          "data": {
            "text/plain": [
              "0    [Terrorism, Primarily Adult Cast, Philosophy, ...\n",
              "1    [Guns, Fugitive, Male Protagonist, Philosophy,...\n",
              "2    [Female Protagonist, Police, Magic, Urban Fant...\n",
              "3                      [Shounen, Spearplay, Swordplay]\n",
              "Name: tags, dtype: object"
            ],
            "text/html": [
              "<div>\n",
              "<style scoped>\n",
              "    .dataframe tbody tr th:only-of-type {\n",
              "        vertical-align: middle;\n",
              "    }\n",
              "\n",
              "    .dataframe tbody tr th {\n",
              "        vertical-align: top;\n",
              "    }\n",
              "\n",
              "    .dataframe thead th {\n",
              "        text-align: right;\n",
              "    }\n",
              "</style>\n",
              "<table border=\"1\" class=\"dataframe\">\n",
              "  <thead>\n",
              "    <tr style=\"text-align: right;\">\n",
              "      <th></th>\n",
              "      <th>tags</th>\n",
              "    </tr>\n",
              "  </thead>\n",
              "  <tbody>\n",
              "    <tr>\n",
              "      <th>0</th>\n",
              "      <td>[Terrorism, Primarily Adult Cast, Philosophy, ...</td>\n",
              "    </tr>\n",
              "    <tr>\n",
              "      <th>1</th>\n",
              "      <td>[Guns, Fugitive, Male Protagonist, Philosophy,...</td>\n",
              "    </tr>\n",
              "    <tr>\n",
              "      <th>2</th>\n",
              "      <td>[Female Protagonist, Police, Magic, Urban Fant...</td>\n",
              "    </tr>\n",
              "    <tr>\n",
              "      <th>3</th>\n",
              "      <td>[Shounen, Spearplay, Swordplay]</td>\n",
              "    </tr>\n",
              "  </tbody>\n",
              "</table>\n",
              "</div><br><label><b>dtype:</b> object</label>"
            ]
          },
          "metadata": {},
          "execution_count": 71
        }
      ]
    },
    {
      "cell_type": "code",
      "source": [
        "anime_df.to_csv('anime_dataset.csv', index=False)"
      ],
      "metadata": {
        "id": "u46dVmZt-phu"
      },
      "execution_count": null,
      "outputs": []
    },
    {
      "cell_type": "code",
      "source": [
        "# import csv"
      ],
      "metadata": {
        "id": "Hk-KTBNqZG5y"
      },
      "execution_count": null,
      "outputs": []
    },
    {
      "cell_type": "code",
      "source": [
        "# with open('test_anime.csv', 'w', newline='',encoding='utf-8') as csvfile:\n",
        "#     fieldnames = list(animes[0].keys())  # Use the keys from the first dict as fieldnames\n",
        "#     writer = csv.DictWriter(csvfile, fieldnames=fieldnames)\n",
        "#     writer.writeheader()\n",
        "\n",
        "#     # Filter out keys that are not in fieldnames\n",
        "#     filtered_animes = [{key: anime.get(key) for key in fieldnames} for anime in animes]\n",
        "\n",
        "#     writer.writerows(filtered_animes)"
      ],
      "metadata": {
        "id": "8VwXAHmQZEQm"
      },
      "execution_count": null,
      "outputs": []
    },
    {
      "cell_type": "code",
      "source": [
        "pip install selenium"
      ],
      "metadata": {
        "colab": {
          "base_uri": "https://localhost:8080/"
        },
        "collapsed": true,
        "id": "wxEJqfFVdAmA",
        "outputId": "dd4c6712-f75a-444b-e0c4-7fe1bb24fa79"
      },
      "execution_count": null,
      "outputs": [
        {
          "output_type": "stream",
          "name": "stdout",
          "text": [
            "Collecting selenium\n",
            "  Downloading selenium-4.25.0-py3-none-any.whl.metadata (7.1 kB)\n",
            "Requirement already satisfied: urllib3<3,>=1.26 in /usr/local/lib/python3.10/dist-packages (from urllib3[socks]<3,>=1.26->selenium) (2.2.3)\n",
            "Collecting trio~=0.17 (from selenium)\n",
            "  Downloading trio-0.26.2-py3-none-any.whl.metadata (8.6 kB)\n",
            "Collecting trio-websocket~=0.9 (from selenium)\n",
            "  Downloading trio_websocket-0.11.1-py3-none-any.whl.metadata (4.7 kB)\n",
            "Requirement already satisfied: certifi>=2021.10.8 in /usr/local/lib/python3.10/dist-packages (from selenium) (2024.8.30)\n",
            "Requirement already satisfied: typing_extensions~=4.9 in /usr/local/lib/python3.10/dist-packages (from selenium) (4.12.2)\n",
            "Requirement already satisfied: websocket-client~=1.8 in /usr/local/lib/python3.10/dist-packages (from selenium) (1.8.0)\n",
            "Requirement already satisfied: attrs>=23.2.0 in /usr/local/lib/python3.10/dist-packages (from trio~=0.17->selenium) (24.2.0)\n",
            "Requirement already satisfied: sortedcontainers in /usr/local/lib/python3.10/dist-packages (from trio~=0.17->selenium) (2.4.0)\n",
            "Requirement already satisfied: idna in /usr/local/lib/python3.10/dist-packages (from trio~=0.17->selenium) (3.10)\n",
            "Collecting outcome (from trio~=0.17->selenium)\n",
            "  Downloading outcome-1.3.0.post0-py2.py3-none-any.whl.metadata (2.6 kB)\n",
            "Requirement already satisfied: sniffio>=1.3.0 in /usr/local/lib/python3.10/dist-packages (from trio~=0.17->selenium) (1.3.1)\n",
            "Requirement already satisfied: exceptiongroup in /usr/local/lib/python3.10/dist-packages (from trio~=0.17->selenium) (1.2.2)\n",
            "Collecting wsproto>=0.14 (from trio-websocket~=0.9->selenium)\n",
            "  Downloading wsproto-1.2.0-py3-none-any.whl.metadata (5.6 kB)\n",
            "Requirement already satisfied: pysocks!=1.5.7,<2.0,>=1.5.6 in /usr/local/lib/python3.10/dist-packages (from urllib3[socks]<3,>=1.26->selenium) (1.7.1)\n",
            "Collecting h11<1,>=0.9.0 (from wsproto>=0.14->trio-websocket~=0.9->selenium)\n",
            "  Downloading h11-0.14.0-py3-none-any.whl.metadata (8.2 kB)\n",
            "Downloading selenium-4.25.0-py3-none-any.whl (9.7 MB)\n",
            "\u001b[2K   \u001b[90m━━━━━━━━━━━━━━━━━━━━━━━━━━━━━━━━━━━━━━━━\u001b[0m \u001b[32m9.7/9.7 MB\u001b[0m \u001b[31m66.8 MB/s\u001b[0m eta \u001b[36m0:00:00\u001b[0m\n",
            "\u001b[?25hDownloading trio-0.26.2-py3-none-any.whl (475 kB)\n",
            "\u001b[2K   \u001b[90m━━━━━━━━━━━━━━━━━━━━━━━━━━━━━━━━━━━━━━━━\u001b[0m \u001b[32m476.0/476.0 kB\u001b[0m \u001b[31m35.5 MB/s\u001b[0m eta \u001b[36m0:00:00\u001b[0m\n",
            "\u001b[?25hDownloading trio_websocket-0.11.1-py3-none-any.whl (17 kB)\n",
            "Downloading wsproto-1.2.0-py3-none-any.whl (24 kB)\n",
            "Downloading outcome-1.3.0.post0-py2.py3-none-any.whl (10 kB)\n",
            "Downloading h11-0.14.0-py3-none-any.whl (58 kB)\n",
            "\u001b[2K   \u001b[90m━━━━━━━━━━━━━━━━━━━━━━━━━━━━━━━━━━━━━━━━\u001b[0m \u001b[32m58.3/58.3 kB\u001b[0m \u001b[31m4.8 MB/s\u001b[0m eta \u001b[36m0:00:00\u001b[0m\n",
            "\u001b[?25hInstalling collected packages: outcome, h11, wsproto, trio, trio-websocket, selenium\n",
            "Successfully installed h11-0.14.0 outcome-1.3.0.post0 selenium-4.25.0 trio-0.26.2 trio-websocket-0.11.1 wsproto-1.2.0\n"
          ]
        }
      ]
    },
    {
      "cell_type": "code",
      "source": [
        "import requests\n",
        "import pandas as pd\n",
        "from selenium import webdriver\n"
      ],
      "metadata": {
        "id": "0CP9Go_XboHc"
      },
      "execution_count": null,
      "outputs": []
    },
    {
      "cell_type": "code",
      "source": [],
      "metadata": {
        "id": "GY8x1Mv7b3oC"
      },
      "execution_count": null,
      "outputs": []
    }
  ]
}